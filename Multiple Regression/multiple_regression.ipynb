{
 "cells": [
  {
   "cell_type": "code",
   "execution_count": 1,
   "id": "b1513883",
   "metadata": {},
   "outputs": [],
   "source": [
    "import pandas as pd\n",
    "import numpy as np\n",
    "import matplotlib.pyplot as plt"
   ]
  },
  {
   "cell_type": "code",
   "execution_count": 3,
   "id": "468c064f",
   "metadata": {},
   "outputs": [
    {
     "data": {
      "text/html": [
       "<div>\n",
       "<style scoped>\n",
       "    .dataframe tbody tr th:only-of-type {\n",
       "        vertical-align: middle;\n",
       "    }\n",
       "\n",
       "    .dataframe tbody tr th {\n",
       "        vertical-align: top;\n",
       "    }\n",
       "\n",
       "    .dataframe thead th {\n",
       "        text-align: right;\n",
       "    }\n",
       "</style>\n",
       "<table border=\"1\" class=\"dataframe\">\n",
       "  <thead>\n",
       "    <tr style=\"text-align: right;\">\n",
       "      <th></th>\n",
       "      <th>R&amp;D Spend</th>\n",
       "      <th>Administration</th>\n",
       "      <th>Marketing Spend</th>\n",
       "      <th>State</th>\n",
       "      <th>Profit</th>\n",
       "    </tr>\n",
       "  </thead>\n",
       "  <tbody>\n",
       "    <tr>\n",
       "      <th>0</th>\n",
       "      <td>165349.20</td>\n",
       "      <td>136897.80</td>\n",
       "      <td>471784.10</td>\n",
       "      <td>New York</td>\n",
       "      <td>192261.83</td>\n",
       "    </tr>\n",
       "    <tr>\n",
       "      <th>1</th>\n",
       "      <td>162597.70</td>\n",
       "      <td>151377.59</td>\n",
       "      <td>443898.53</td>\n",
       "      <td>California</td>\n",
       "      <td>191792.06</td>\n",
       "    </tr>\n",
       "    <tr>\n",
       "      <th>2</th>\n",
       "      <td>153441.51</td>\n",
       "      <td>101145.55</td>\n",
       "      <td>407934.54</td>\n",
       "      <td>Florida</td>\n",
       "      <td>191050.39</td>\n",
       "    </tr>\n",
       "    <tr>\n",
       "      <th>3</th>\n",
       "      <td>144372.41</td>\n",
       "      <td>118671.85</td>\n",
       "      <td>383199.62</td>\n",
       "      <td>New York</td>\n",
       "      <td>182901.99</td>\n",
       "    </tr>\n",
       "    <tr>\n",
       "      <th>4</th>\n",
       "      <td>142107.34</td>\n",
       "      <td>91391.77</td>\n",
       "      <td>366168.42</td>\n",
       "      <td>Florida</td>\n",
       "      <td>166187.94</td>\n",
       "    </tr>\n",
       "  </tbody>\n",
       "</table>\n",
       "</div>"
      ],
      "text/plain": [
       "   R&D Spend  Administration  Marketing Spend       State     Profit\n",
       "0  165349.20       136897.80        471784.10    New York  192261.83\n",
       "1  162597.70       151377.59        443898.53  California  191792.06\n",
       "2  153441.51       101145.55        407934.54     Florida  191050.39\n",
       "3  144372.41       118671.85        383199.62    New York  182901.99\n",
       "4  142107.34        91391.77        366168.42     Florida  166187.94"
      ]
     },
     "execution_count": 3,
     "metadata": {},
     "output_type": "execute_result"
    }
   ],
   "source": [
    "df=pd.read_csv(r\"C:\\Users\\Rahul Awari\\OneDrive\\Desktop\\Machine learning A-Z\\Machine Learning A-Z (Codes and Datasets)\\Part 2 - Regression\\Section 5 - Multiple Linear Regression\\Python\\50_Startups.csv\")\n",
    "df.head()"
   ]
  },
  {
   "cell_type": "code",
   "execution_count": 7,
   "id": "b886d0c5",
   "metadata": {},
   "outputs": [
    {
     "data": {
      "text/html": [
       "<div>\n",
       "<style scoped>\n",
       "    .dataframe tbody tr th:only-of-type {\n",
       "        vertical-align: middle;\n",
       "    }\n",
       "\n",
       "    .dataframe tbody tr th {\n",
       "        vertical-align: top;\n",
       "    }\n",
       "\n",
       "    .dataframe thead th {\n",
       "        text-align: right;\n",
       "    }\n",
       "</style>\n",
       "<table border=\"1\" class=\"dataframe\">\n",
       "  <thead>\n",
       "    <tr style=\"text-align: right;\">\n",
       "      <th></th>\n",
       "      <th>R&amp;D Spend</th>\n",
       "      <th>Administration</th>\n",
       "      <th>Marketing Spend</th>\n",
       "      <th>State</th>\n",
       "      <th>Profit</th>\n",
       "      <th>California</th>\n",
       "      <th>Florida</th>\n",
       "      <th>New York</th>\n",
       "    </tr>\n",
       "  </thead>\n",
       "  <tbody>\n",
       "    <tr>\n",
       "      <th>0</th>\n",
       "      <td>165349.20</td>\n",
       "      <td>136897.80</td>\n",
       "      <td>471784.10</td>\n",
       "      <td>New York</td>\n",
       "      <td>192261.83</td>\n",
       "      <td>0</td>\n",
       "      <td>0</td>\n",
       "      <td>1</td>\n",
       "    </tr>\n",
       "    <tr>\n",
       "      <th>1</th>\n",
       "      <td>162597.70</td>\n",
       "      <td>151377.59</td>\n",
       "      <td>443898.53</td>\n",
       "      <td>California</td>\n",
       "      <td>191792.06</td>\n",
       "      <td>1</td>\n",
       "      <td>0</td>\n",
       "      <td>0</td>\n",
       "    </tr>\n",
       "    <tr>\n",
       "      <th>2</th>\n",
       "      <td>153441.51</td>\n",
       "      <td>101145.55</td>\n",
       "      <td>407934.54</td>\n",
       "      <td>Florida</td>\n",
       "      <td>191050.39</td>\n",
       "      <td>0</td>\n",
       "      <td>1</td>\n",
       "      <td>0</td>\n",
       "    </tr>\n",
       "    <tr>\n",
       "      <th>3</th>\n",
       "      <td>144372.41</td>\n",
       "      <td>118671.85</td>\n",
       "      <td>383199.62</td>\n",
       "      <td>New York</td>\n",
       "      <td>182901.99</td>\n",
       "      <td>0</td>\n",
       "      <td>0</td>\n",
       "      <td>1</td>\n",
       "    </tr>\n",
       "    <tr>\n",
       "      <th>4</th>\n",
       "      <td>142107.34</td>\n",
       "      <td>91391.77</td>\n",
       "      <td>366168.42</td>\n",
       "      <td>Florida</td>\n",
       "      <td>166187.94</td>\n",
       "      <td>0</td>\n",
       "      <td>1</td>\n",
       "      <td>0</td>\n",
       "    </tr>\n",
       "  </tbody>\n",
       "</table>\n",
       "</div>"
      ],
      "text/plain": [
       "   R&D Spend  Administration  Marketing Spend       State     Profit  \\\n",
       "0  165349.20       136897.80        471784.10    New York  192261.83   \n",
       "1  162597.70       151377.59        443898.53  California  191792.06   \n",
       "2  153441.51       101145.55        407934.54     Florida  191050.39   \n",
       "3  144372.41       118671.85        383199.62    New York  182901.99   \n",
       "4  142107.34        91391.77        366168.42     Florida  166187.94   \n",
       "\n",
       "   California  Florida  New York  \n",
       "0           0        0         1  \n",
       "1           1        0         0  \n",
       "2           0        1         0  \n",
       "3           0        0         1  \n",
       "4           0        1         0  "
      ]
     },
     "execution_count": 7,
     "metadata": {},
     "output_type": "execute_result"
    }
   ],
   "source": [
    "df2=pd.get_dummies(df['State'])\n",
    "df3=pd.concat((df,df2),axis=1)\n",
    "df3.head()"
   ]
  },
  {
   "cell_type": "code",
   "execution_count": 8,
   "id": "2007348f",
   "metadata": {},
   "outputs": [
    {
     "data": {
      "text/plain": [
       "[192261.83,\n",
       " 191792.06,\n",
       " 191050.39,\n",
       " 182901.99,\n",
       " 166187.94,\n",
       " 156991.12,\n",
       " 156122.51,\n",
       " 155752.6,\n",
       " 152211.77,\n",
       " 149759.96,\n",
       " 146121.95,\n",
       " 144259.4,\n",
       " 141585.52,\n",
       " 134307.35,\n",
       " 132602.65,\n",
       " 129917.04,\n",
       " 126992.93,\n",
       " 125370.37,\n",
       " 124266.9,\n",
       " 122776.86,\n",
       " 118474.03,\n",
       " 111313.02,\n",
       " 110352.25,\n",
       " 108733.99,\n",
       " 108552.04,\n",
       " 107404.34,\n",
       " 105733.54,\n",
       " 105008.31,\n",
       " 103282.38,\n",
       " 101004.64,\n",
       " 99937.59,\n",
       " 97483.56,\n",
       " 97427.84,\n",
       " 96778.92,\n",
       " 96712.8,\n",
       " 96479.51,\n",
       " 90708.19,\n",
       " 89949.14,\n",
       " 81229.06,\n",
       " 81005.76,\n",
       " 78239.91,\n",
       " 77798.83,\n",
       " 71498.49,\n",
       " 69758.98,\n",
       " 65200.33,\n",
       " 64926.08,\n",
       " 49490.75,\n",
       " 42559.73,\n",
       " 35673.41,\n",
       " 14681.4]"
      ]
     },
     "execution_count": 8,
     "metadata": {},
     "output_type": "execute_result"
    }
   ],
   "source": [
    "y_df=df3['Profit'].tolist()\n",
    "y_df"
   ]
  },
  {
   "cell_type": "code",
   "execution_count": 13,
   "id": "330d71d4",
   "metadata": {},
   "outputs": [
    {
     "data": {
      "text/plain": [
       "[[0.0, 0.0, 1.0, 165349.2, 136897.8, 471784.1],\n",
       " [1.0, 0.0, 0.0, 162597.7, 151377.59, 443898.53],\n",
       " [0.0, 1.0, 0.0, 153441.51, 101145.55, 407934.54],\n",
       " [0.0, 0.0, 1.0, 144372.41, 118671.85, 383199.62],\n",
       " [0.0, 1.0, 0.0, 142107.34, 91391.77, 366168.42],\n",
       " [0.0, 0.0, 1.0, 131876.9, 99814.71, 362861.36],\n",
       " [1.0, 0.0, 0.0, 134615.46, 147198.87, 127716.82],\n",
       " [0.0, 1.0, 0.0, 130298.13, 145530.06, 323876.68],\n",
       " [0.0, 0.0, 1.0, 120542.52, 148718.95, 311613.29],\n",
       " [1.0, 0.0, 0.0, 123334.88, 108679.17, 304981.62],\n",
       " [0.0, 1.0, 0.0, 101913.08, 110594.11, 229160.95],\n",
       " [1.0, 0.0, 0.0, 100671.96, 91790.61, 249744.55],\n",
       " [0.0, 1.0, 0.0, 93863.75, 127320.38, 249839.44],\n",
       " [1.0, 0.0, 0.0, 91992.39, 135495.07, 252664.93],\n",
       " [0.0, 1.0, 0.0, 119943.24, 156547.42, 256512.92],\n",
       " [0.0, 0.0, 1.0, 114523.61, 122616.84, 261776.23],\n",
       " [1.0, 0.0, 0.0, 78013.11, 121597.55, 264346.06],\n",
       " [0.0, 0.0, 1.0, 94657.16, 145077.58, 282574.31],\n",
       " [0.0, 1.0, 0.0, 91749.16, 114175.79, 294919.57],\n",
       " [0.0, 0.0, 1.0, 86419.7, 153514.11, 0.0],\n",
       " [1.0, 0.0, 0.0, 76253.86, 113867.3, 298664.47],\n",
       " [0.0, 0.0, 1.0, 78389.47, 153773.43, 299737.29],\n",
       " [0.0, 1.0, 0.0, 73994.56, 122782.75, 303319.26],\n",
       " [0.0, 1.0, 0.0, 67532.53, 105751.03, 304768.73],\n",
       " [0.0, 0.0, 1.0, 77044.01, 99281.34, 140574.81],\n",
       " [1.0, 0.0, 0.0, 64664.71, 139553.16, 137962.62],\n",
       " [0.0, 1.0, 0.0, 75328.87, 144135.98, 134050.07],\n",
       " [0.0, 0.0, 1.0, 72107.6, 127864.55, 353183.81],\n",
       " [0.0, 1.0, 0.0, 66051.52, 182645.56, 118148.2],\n",
       " [0.0, 0.0, 1.0, 65605.48, 153032.06, 107138.38],\n",
       " [0.0, 1.0, 0.0, 61994.48, 115641.28, 91131.24],\n",
       " [0.0, 0.0, 1.0, 61136.38, 152701.92, 88218.23],\n",
       " [1.0, 0.0, 0.0, 63408.86, 129219.61, 46085.25],\n",
       " [0.0, 1.0, 0.0, 55493.95, 103057.49, 214634.81],\n",
       " [1.0, 0.0, 0.0, 46426.07, 157693.92, 210797.67],\n",
       " [0.0, 0.0, 1.0, 46014.02, 85047.44, 205517.64],\n",
       " [0.0, 1.0, 0.0, 28663.76, 127056.21, 201126.82],\n",
       " [1.0, 0.0, 0.0, 44069.95, 51283.14, 197029.42],\n",
       " [0.0, 0.0, 1.0, 20229.59, 65947.93, 185265.1],\n",
       " [1.0, 0.0, 0.0, 38558.51, 82982.09, 174999.3],\n",
       " [1.0, 0.0, 0.0, 28754.33, 118546.05, 172795.67],\n",
       " [0.0, 1.0, 0.0, 27892.92, 84710.77, 164470.71],\n",
       " [1.0, 0.0, 0.0, 23640.93, 96189.63, 148001.11],\n",
       " [0.0, 0.0, 1.0, 15505.73, 127382.3, 35534.17],\n",
       " [1.0, 0.0, 0.0, 22177.74, 154806.14, 28334.72],\n",
       " [0.0, 0.0, 1.0, 1000.23, 124153.04, 1903.93],\n",
       " [0.0, 1.0, 0.0, 1315.46, 115816.21, 297114.46],\n",
       " [1.0, 0.0, 0.0, 0.0, 135426.92, 0.0],\n",
       " [0.0, 0.0, 1.0, 542.05, 51743.15, 0.0],\n",
       " [1.0, 0.0, 0.0, 0.0, 116983.8, 45173.06]]"
      ]
     },
     "execution_count": 13,
     "metadata": {},
     "output_type": "execute_result"
    }
   ],
   "source": [
    "temp_df=df3.loc[0:,['California','Florida','New York','R&D Spend','Administration','Marketing Spend']]\n",
    "x_df=temp_df.values.tolist()\n",
    "x_df"
   ]
  },
  {
   "cell_type": "code",
   "execution_count": 16,
   "id": "25574dcf",
   "metadata": {},
   "outputs": [
    {
     "data": {
      "text/plain": [
       "[103282.38,\n",
       " 144259.4,\n",
       " 146121.95,\n",
       " 77798.83,\n",
       " 191050.39,\n",
       " 105008.31,\n",
       " 81229.06,\n",
       " 97483.56,\n",
       " 110352.25,\n",
       " 166187.94]"
      ]
     },
     "execution_count": 16,
     "metadata": {},
     "output_type": "execute_result"
    }
   ],
   "source": [
    "from sklearn.model_selection import train_test_split\n",
    "x_train,x_test,y_train,y_test=train_test_split(x_df,y_df,test_size=0.2,random_state=0)\n",
    "y_test"
   ]
  },
  {
   "cell_type": "code",
   "execution_count": 17,
   "id": "4fd70ad3",
   "metadata": {},
   "outputs": [
    {
     "data": {
      "text/plain": [
       "LinearRegression()"
      ]
     },
     "execution_count": 17,
     "metadata": {},
     "output_type": "execute_result"
    }
   ],
   "source": [
    "from sklearn.linear_model import LinearRegression\n",
    "reg=LinearRegression()\n",
    "reg.fit(x_train,y_train)"
   ]
  },
  {
   "cell_type": "code",
   "execution_count": 20,
   "id": "c8d93d4b",
   "metadata": {},
   "outputs": [
    {
     "data": {
      "text/plain": [
       "array([103015.20159796, 132582.27760816, 132447.73845174,  71976.09851258,\n",
       "       178537.48221055, 116161.24230166,  67851.69209676,  98791.73374686,\n",
       "       113969.43533013, 167921.06569551])"
      ]
     },
     "execution_count": 20,
     "metadata": {},
     "output_type": "execute_result"
    }
   ],
   "source": [
    "#vector representation\n",
    "y_pred=reg.predict(x_test)\n",
    "y_pred"
   ]
  },
  {
   "cell_type": "code",
   "execution_count": 31,
   "id": "1bedc4ce",
   "metadata": {},
   "outputs": [
    {
     "data": {
      "text/plain": [
       "[[103282.38],\n",
       " [144259.4],\n",
       " [146121.95],\n",
       " [77798.83],\n",
       " [191050.39],\n",
       " [105008.31],\n",
       " [81229.06],\n",
       " [97483.56],\n",
       " [110352.25],\n",
       " [166187.94]]"
      ]
     },
     "execution_count": 31,
     "metadata": {},
     "output_type": "execute_result"
    }
   ],
   "source": [
    "y_test_np=np.array(y_test)\n",
    "y_test_col=y_test_np.reshape(len(y_test_np),1)\n",
    "y_test_fin=y_test_col.tolist()\n",
    "y_test_fin"
   ]
  },
  {
   "cell_type": "code",
   "execution_count": 34,
   "id": "98e4ccb9",
   "metadata": {},
   "outputs": [
    {
     "data": {
      "text/plain": [
       "[103015.20159795521,\n",
       " 132582.27760816005,\n",
       " 132447.73845174047,\n",
       " 71976.09851257835,\n",
       " 178537.48221055372,\n",
       " 116161.24230165884,\n",
       " 67851.6920967556,\n",
       " 98791.73374686314,\n",
       " 113969.43533013003,\n",
       " 167921.06569550512]"
      ]
     },
     "execution_count": 34,
     "metadata": {},
     "output_type": "execute_result"
    }
   ],
   "source": [
    "y_pred"
   ]
  },
  {
   "cell_type": "code",
   "execution_count": 38,
   "id": "8e9183e2",
   "metadata": {},
   "outputs": [
    {
     "data": {
      "text/html": [
       "<div>\n",
       "<style scoped>\n",
       "    .dataframe tbody tr th:only-of-type {\n",
       "        vertical-align: middle;\n",
       "    }\n",
       "\n",
       "    .dataframe tbody tr th {\n",
       "        vertical-align: top;\n",
       "    }\n",
       "\n",
       "    .dataframe thead th {\n",
       "        text-align: right;\n",
       "    }\n",
       "</style>\n",
       "<table border=\"1\" class=\"dataframe\">\n",
       "  <thead>\n",
       "    <tr style=\"text-align: right;\">\n",
       "      <th></th>\n",
       "      <th>0</th>\n",
       "      <th>1</th>\n",
       "      <th>2</th>\n",
       "      <th>3</th>\n",
       "      <th>4</th>\n",
       "      <th>5</th>\n",
       "      <th>6</th>\n",
       "      <th>7</th>\n",
       "      <th>8</th>\n",
       "      <th>9</th>\n",
       "    </tr>\n",
       "  </thead>\n",
       "  <tbody>\n",
       "    <tr>\n",
       "      <th>Test Value</th>\n",
       "      <td>103282.380000</td>\n",
       "      <td>144259.400000</td>\n",
       "      <td>146121.950000</td>\n",
       "      <td>77798.830000</td>\n",
       "      <td>191050.390000</td>\n",
       "      <td>105008.310000</td>\n",
       "      <td>81229.060000</td>\n",
       "      <td>97483.560000</td>\n",
       "      <td>110352.25000</td>\n",
       "      <td>166187.940000</td>\n",
       "    </tr>\n",
       "    <tr>\n",
       "      <th>Predicted Value</th>\n",
       "      <td>103015.201598</td>\n",
       "      <td>132582.277608</td>\n",
       "      <td>132447.738452</td>\n",
       "      <td>71976.098513</td>\n",
       "      <td>178537.482211</td>\n",
       "      <td>116161.242302</td>\n",
       "      <td>67851.692097</td>\n",
       "      <td>98791.733747</td>\n",
       "      <td>113969.43533</td>\n",
       "      <td>167921.065696</td>\n",
       "    </tr>\n",
       "  </tbody>\n",
       "</table>\n",
       "</div>"
      ],
      "text/plain": [
       "                             0              1              2             3  \\\n",
       "Test Value       103282.380000  144259.400000  146121.950000  77798.830000   \n",
       "Predicted Value  103015.201598  132582.277608  132447.738452  71976.098513   \n",
       "\n",
       "                             4              5             6             7  \\\n",
       "Test Value       191050.390000  105008.310000  81229.060000  97483.560000   \n",
       "Predicted Value  178537.482211  116161.242302  67851.692097  98791.733747   \n",
       "\n",
       "                            8              9  \n",
       "Test Value       110352.25000  166187.940000  \n",
       "Predicted Value  113969.43533  167921.065696  "
      ]
     },
     "execution_count": 38,
     "metadata": {},
     "output_type": "execute_result"
    }
   ],
   "source": [
    "listans=[]\n",
    "listans.append(y_test)\n",
    "listans.append(y_pred)\n",
    "pred_res=pd.DataFrame(listans,index=['Test Value','Predicted Value'])\n",
    "pred_res"
   ]
  },
  {
   "cell_type": "code",
   "execution_count": null,
   "id": "9625081d",
   "metadata": {},
   "outputs": [],
   "source": []
  }
 ],
 "metadata": {
  "kernelspec": {
   "display_name": "Python 3 (ipykernel)",
   "language": "python",
   "name": "python3"
  },
  "language_info": {
   "codemirror_mode": {
    "name": "ipython",
    "version": 3
   },
   "file_extension": ".py",
   "mimetype": "text/x-python",
   "name": "python",
   "nbconvert_exporter": "python",
   "pygments_lexer": "ipython3",
   "version": "3.9.7"
  }
 },
 "nbformat": 4,
 "nbformat_minor": 5
}
